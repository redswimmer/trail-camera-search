{
 "cells": [
  {
   "cell_type": "markdown",
   "metadata": {},
   "source": [
    "# Trail Camera Image and Video Search with Meta AI ImageBind\n",
    "This project demonstrates how to build multi-modal search (image and video) using the [Meta AI ImageBind](https://imagebind.metademolab.com/) and [Weaviate](https://weaviate.io/) vector database."
   ]
  },
  {
   "cell_type": "markdown",
   "metadata": {},
   "source": [
    "## Weaviate Setup\n",
    "\n",
    "The ImageBind model is only available with local Weaviate deployments with Docker or Kubernetes.\n",
    "\n",
    "ImageBind is not supported with Weaviate Cloud Services (WCS).\n",
    "\n",
    "### Steps to deploy Weaviate locally with ImageBind\n",
    "\n",
    "1. Install Docker.\n",
    "    \n",
    "   > If you are new to `Docker Compose`, [here are instructions on how to install it](https://docs.docker.com/compose/install/).\n",
    "\n",
    "2. Run Weaviate+Bind with Docker Compose\n",
    "\n",
    "     In the terminal, navigate to the root director of this project and locate the file `docker-compose.yml` and call:\n",
    "\n",
    "    ```\n",
    "    docker compose up\n",
    "    ```\n",
    "    \n",
    "    > Note #1 - the first time you run the command, Docker will download a ~6GB image.\n",
    "  \n",
    "    > Note #2 – running this Docker image requires 12GB of RAM.  If you're in Windows you'll need to adjust your .wslconfig to include the following:\n",
    "\n",
    "    ```\n",
    "    [wsl2]\n",
    "    memory=12GB\n",
    "    ```"
   ]
  },
  {
   "cell_type": "markdown",
   "metadata": {},
   "source": [
    "### Dependencies"
   ]
  },
  {
   "cell_type": "markdown",
   "metadata": {},
   "source": [
    "Install the Weaviate client library for Python."
   ]
  },
  {
   "cell_type": "code",
   "execution_count": null,
   "metadata": {},
   "outputs": [],
   "source": [
    "%pip install weaviate-client"
   ]
  },
  {
   "cell_type": "markdown",
   "metadata": {},
   "source": [
    "## Configuration"
   ]
  },
  {
   "cell_type": "markdown",
   "metadata": {},
   "source": [
    "Verify the Weaviate client can connect to the local Weaviate server.\n",
    "\n"
   ]
  },
  {
   "cell_type": "code",
   "execution_count": null,
   "metadata": {},
   "outputs": [],
   "source": [
    "import weaviate\n",
    "import os\n",
    "\n",
    "# Connect to Weaviate\n",
    "client = weaviate.Client(\n",
    "  url=\"http://localhost:8080\",  # URL to your local Weaviate instance\n",
    ")\n",
    "\n",
    "client.is_ready() # Test the connection"
   ]
  },
  {
   "cell_type": "markdown",
   "metadata": {},
   "source": [
    "### Create `Media` collection\n",
    "\n",
    "The collection has the following key characteristics:\n",
    "1. Class: `\"Media\"`\n",
    "2. Vectorizer: `multi2vec-bind`\n",
    "3. Image property: `\"img\"` - Weaviate will use values in \"img\" property to generate vectors. Note, you can call it anything you want."
   ]
  },
  {
   "cell_type": "code",
   "execution_count": null,
   "metadata": {},
   "outputs": [],
   "source": [
    "# Delete the collection if it exists.\n",
    "# Note you should skip this step if you don't want to reimport the data every time.\n",
    "if client.schema.exists(\"Media\"):\n",
    "    client.schema.delete_class(\"Media\")\n",
    "\n",
    "media = {\n",
    "    \"classes\": [\n",
    "        {\n",
    "            \"class\": \"Media\",            \n",
    "            \"vectorizer\": \"multi2vec-bind\",            \n",
    "            \"moduleConfig\": {\n",
    "                \"multi2vec-bind\": {\n",
    "                    \"imageFields\": [\"image\"],\n",
    "                    \"videoFields\": [\"video\"],\n",
    "                }\n",
    "            },\n",
    "            \"properties\": [\n",
    "                {\n",
    "                    \"dataType\": [\"blob\"],\n",
    "                    \"name\": \"image\"\n",
    "                },\n",
    "                {\n",
    "                    \"dataType\": [\"blob\"],\n",
    "                    \"name\": \"video\"\n",
    "                }\n",
    "            ]\n",
    "        }\n",
    "    ]\n",
    "}\n",
    "\n",
    "client.schema.create(media)\n",
    "print(\"Successfully created Media collection.\")"
   ]
  },
  {
   "cell_type": "markdown",
   "metadata": {},
   "source": [
    "### Import Media\n",
    "For every object, we will store:\n",
    "* `name` - the file name \n",
    "* `path` - path to the file, so that we could display returned images at query time.\n",
    "* (one of the following) media:\n",
    "    * `image` - a base64 representation of the image file, Weaviate will use it to generate a vector - see `imageFields`.\n",
    "    * `video` - a base64 representation of the video file, Weaviate will use it to generate a vector - see `videoFields`.\n"
   ]
  },
  {
   "cell_type": "code",
   "execution_count": null,
   "metadata": {},
   "outputs": [],
   "source": [
    "\n",
    "import base64\n",
    "\n",
    "# Helper function to convert a file to base64 representation\n",
    "def toBase64(path):\n",
    "    with open(path, 'rb') as file:\n",
    "        return base64.b64encode(file.read()).decode('utf-8')"
   ]
  },
  {
   "cell_type": "markdown",
   "metadata": {},
   "source": [
    "#### Import images"
   ]
  },
  {
   "cell_type": "code",
   "execution_count": null,
   "metadata": {},
   "outputs": [],
   "source": [
    "# List of source images \n",
    "source = [\"cat1.jpg\", \"cat2.jpg\", \"cat3.jpg\",\n",
    "          \"dog1.jpg\", \"dog2.jpg\", \"dog3.jpg\",\n",
    "          \"meerkat1.jpg\", \"meerkat2.jpg\", \"meerkat3.jpg\"]\n",
    "\n",
    "client.batch.configure(batch_size=3)  # Load images in batches of 3\n",
    "with client.batch as batch:\n",
    "\n",
    "    for name in source:\n",
    "        print(f\"Adding {name}\")\n",
    "\n",
    "        # Build the path to the image file\n",
    "        path = \"./source/image/\" + name\n",
    "\n",
    "        # Object to store in Weaviate\n",
    "        properties = {\n",
    "            \"name\": name,\n",
    "            \"path\": path,\n",
    "            \"image\": toBase64(path), # Weaviate will use the base64 representation of the file to generate a vector.\n",
    "            \"mediaType\": \"image\"\n",
    "        }\n",
    "\n",
    "        # Add the object to Weaviate\n",
    "        client.batch.add_data_object(properties, \"Media\")"
   ]
  },
  {
   "cell_type": "markdown",
   "metadata": {},
   "source": [
    "#### Import Video"
   ]
  },
  {
   "cell_type": "code",
   "execution_count": null,
   "metadata": {},
   "outputs": [],
   "source": [
    "# List of source video \n",
    "source = [\n",
    "    \"cat-clean.mp4\", \"cat-play.mp4\",\n",
    "    \"dog-high-five.mp4\", \"dog-with-stick.mp4\",\n",
    "    \"meerkat-dig.mp4\", \"meerkat-watch.mp4\"\n",
    "]\n",
    "\n",
    "client.batch.configure(batch_size=1)  # Load images in batches of 1, as these might be big files\n",
    "with client.batch as batch:\n",
    "\n",
    "    for name in source:\n",
    "        print(f\"Adding {name}\")\n",
    "\n",
    "        # Build the path to the image file\n",
    "        path = \"./source/video/\" + name\n",
    "\n",
    "        # Object to store in Weaviate\n",
    "        properties = {\n",
    "            \"name\": name,\n",
    "            \"path\": path,\n",
    "            \"video\": toBase64(path), # Weaviate will use the base64 representation of the file to generate a vector.\n",
    "            \"mediaType\": \"video\"\n",
    "        }\n",
    "\n",
    "        # Add the object to Weaviate\n",
    "        client.batch.add_data_object(properties, \"Media\")"
   ]
  },
  {
   "cell_type": "markdown",
   "metadata": {},
   "source": [
    "### Check number of objects in the Media collection"
   ]
  },
  {
   "cell_type": "code",
   "execution_count": null,
   "metadata": {},
   "outputs": [],
   "source": [
    "# Display the number of objects in the Media collection\n",
    "client.query.aggregate(\"Media\").with_meta_count().do()"
   ]
  },
  {
   "cell_type": "markdown",
   "metadata": {},
   "source": [
    "## Query examples"
   ]
  },
  {
   "cell_type": "code",
   "execution_count": null,
   "metadata": {},
   "outputs": [],
   "source": [
    "# Helper functions to display results\n",
    "import json\n",
    "from IPython.display import Image, Audio, Video\n",
    "\n",
    "def json_print(data):\n",
    "    print(json.dumps(data, indent=2))\n",
    "\n",
    "def display_media(item):\n",
    "    path = item[\"path\"]\n",
    "\n",
    "    if(item[\"mediaType\"] == \"image\"):\n",
    "        display(Image(path))\n",
    "\n",
    "    elif(item[\"mediaType\"] == \"video\"):\n",
    "        display(Video(path))"
   ]
  },
  {
   "cell_type": "markdown",
   "metadata": {},
   "source": [
    "### Text to Media search"
   ]
  },
  {
   "cell_type": "code",
   "execution_count": null,
   "metadata": {},
   "outputs": [],
   "source": [
    "# Search for media with \"dog with stick\", \"cat playing with mouse\", \"dog high five\", \"puppy\"\n",
    "response = (\n",
    "    client.query\n",
    "    .get(\"Media\", \"name path mediaType\")\n",
    "    .with_near_text(\n",
    "        #{\"concepts\": \"dog with stick\"}\n",
    "        {\"concepts\": \"cat playing with mouse\"}\n",
    "        # {\"concepts\": \"dog high five\"}\n",
    "        # {\"concepts\": \"puppy\"}\n",
    "    )\n",
    "    .with_limit(3)\n",
    "    .do()\n",
    ")\n",
    "\n",
    "# Print results\n",
    "result = response[\"data\"][\"Get\"][\"Media\"]\n",
    "\n",
    "json_print(result)\n",
    "\n",
    "# Display the first result\n",
    "display_media(result[0])"
   ]
  },
  {
   "cell_type": "markdown",
   "metadata": {},
   "source": [
    "### Image to Media search"
   ]
  },
  {
   "cell_type": "code",
   "execution_count": null,
   "metadata": {},
   "outputs": [],
   "source": [
    "Image('test/test-cat.jpg')"
   ]
  },
  {
   "cell_type": "code",
   "execution_count": null,
   "metadata": {},
   "outputs": [],
   "source": [
    "# Search for images that are similar to the provided image of test-meerkat, test-dog, test-cat\n",
    "response = (\n",
    "    client.query\n",
    "    .get(\"Media\", \"name path mediaType\")\n",
    "    .with_near_image(\n",
    "        # {\"image\": \"./test/test-meerkat.jpg\"}, # Use file path as the input for the query\n",
    "        # {\"image\": \"./test/test-dog.jpg\"}, # Use file path as the input for the query\n",
    "        {\"image\": \"./test/test-cat.jpg\"}, # Use file path as the input for the query\n",
    "    )\n",
    "    .with_limit(5)\n",
    "    .do()\n",
    ")\n",
    "\n",
    "# Print results\n",
    "result = response[\"data\"][\"Get\"][\"Media\"]\n",
    "json_print(result)\n",
    "\n",
    "# Display the first image\n",
    "display_media(result[0])"
   ]
  },
  {
   "cell_type": "markdown",
   "metadata": {},
   "source": [
    "### Video to Media search"
   ]
  },
  {
   "cell_type": "code",
   "execution_count": null,
   "metadata": {
    "scrolled": true
   },
   "outputs": [],
   "source": [
    "Video('test/test-meerkat.mp4')"
   ]
  },
  {
   "cell_type": "code",
   "execution_count": null,
   "metadata": {},
   "outputs": [],
   "source": [
    "# Search for images that are similar to the provided image of test-meerkat, test-dog, test-cat\n",
    "response = (\n",
    "    client.query\n",
    "    .get(\"Media\", \"name path mediaType\")\n",
    "    .with_near_video(\n",
    "        # {\"video\": \"./test/test-dog.mp4\"}, # Use file path as the input for the query\n",
    "        # {\"video\": \"./test/test-cat.mp4\"}, # Use file path as the input for the query\n",
    "        {\"video\": \"./test/test-meerkat.mp4\"}, # Use file path as the input for the query\n",
    "    )\n",
    "    .with_limit(3)\n",
    "    .do()\n",
    ")\n",
    "\n",
    "# Print results\n",
    "result = response[\"data\"][\"Get\"][\"Media\"]\n",
    "json_print(result)\n",
    "\n",
    "# Display the first image\n",
    "display_media(result[0])"
   ]
  }
 ],
 "metadata": {
  "kernelspec": {
   "display_name": "Python 3 (ipykernel)",
   "language": "python",
   "name": "python3"
  },
  "language_info": {
   "codemirror_mode": {
    "name": "ipython",
    "version": 3
   },
   "file_extension": ".py",
   "mimetype": "text/x-python",
   "name": "python",
   "nbconvert_exporter": "python",
   "pygments_lexer": "ipython3",
   "version": "3.12.0"
  }
 },
 "nbformat": 4,
 "nbformat_minor": 2
}
